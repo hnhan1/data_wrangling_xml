{
 "cells": [
  {
   "cell_type": "markdown",
   "metadata": {},
   "source": [
    "# XML example and exercise\n",
    "****\n",
    "+ study examples of accessing nodes in XML tree structure  \n",
    "+ work on exercise to be completed and submitted\n",
    "****\n",
    "+ reference: https://docs.python.org/2.7/library/xml.etree.elementtree.html\n",
    "+ data source: http://www.dbis.informatik.uni-goettingen.de/Mondial\n",
    "****"
   ]
  },
  {
   "cell_type": "code",
   "execution_count": 15,
   "metadata": {
    "collapsed": true
   },
   "outputs": [],
   "source": [
    "from xml.etree import ElementTree as ET"
   ]
  },
  {
   "cell_type": "markdown",
   "metadata": {},
   "source": [
    "## XML example\n",
    "\n",
    "+ for details about tree traversal and iterators, see https://docs.python.org/2.7/library/xml.etree.elementtree.html"
   ]
  },
  {
   "cell_type": "code",
   "execution_count": 16,
   "metadata": {
    "collapsed": false
   },
   "outputs": [],
   "source": [
    "document_tree = ET.parse( './data/mondial_database_less.xml' )"
   ]
  },
  {
   "cell_type": "code",
   "execution_count": 19,
   "metadata": {
    "collapsed": false
   },
   "outputs": [
    {
     "name": "stdout",
     "output_type": "stream",
     "text": [
      "Albania\n",
      "Greece\n",
      "Macedonia\n",
      "Serbia\n",
      "Montenegro\n",
      "Kosovo\n",
      "Andorra\n"
     ]
    }
   ],
   "source": [
    "# print names of all countries\n",
    "for child in document_tree.getroot():\n",
    "    print(child.find('name').text)"
   ]
  },
  {
   "cell_type": "code",
   "execution_count": 25,
   "metadata": {
    "collapsed": false
   },
   "outputs": [
    {
     "name": "stdout",
     "output_type": "stream",
     "text": [
      "* Albania:\n",
      "Tirana, Shkodër, Durrës, Vlorë, Elbasan, Korçë\n",
      "* Greece:\n",
      "Komotini, Kavala, Athina, Peiraias, Peristeri, Acharnes, Patra, Kozani, Kerkyra, Ioannina, Thessaloniki, Iraklio, Chania, Ermoupoli, Rhodes, Tripoli, Lamia, Chalkida, Larissa, Volos, Mytilini, Karyes\n",
      "* Macedonia:\n",
      "Skopje, Kumanovo\n",
      "* Serbia:\n",
      "Beograd, Novi Sad, Niš\n",
      "* Montenegro:\n",
      "Podgorica\n",
      "* Kosovo:\n",
      "Prishtine\n",
      "* Andorra:\n",
      "Andorra la Vella\n"
     ]
    }
   ],
   "source": [
    "# print names of all countries and their cities\n",
    "for element in document_tree.iterfind('country'):\n",
    "    print('* ' + element.find('name').text + ':')\n",
    "    capitals_string = ''\n",
    "    for subelement in element.getiterator('city'):\n",
    "        capitals_string += subelement.find('name').text + ', '\n",
    "    print(capitals_string[:-2])"
   ]
  },
  {
   "cell_type": "markdown",
   "metadata": {},
   "source": [
    "## XML exercise\n",
    "\n",
    "Using data in 'data/mondial_database.xml', the examples above, and refering to https://docs.python.org/2.7/library/xml.etree.elementtree.html, find\n",
    "\n",
    "1. 10 countries with the lowest infant mortality rates\n",
    "2. 10 cities with the largest population\n",
    "3. 10 ethnic groups with the largest overall populations (sum of best/latest estimates over all countries)\n",
    "4. name and country of a) longest river, b) largest lake and c) airport at highest elevation"
   ]
  },
  {
   "cell_type": "code",
   "execution_count": 26,
   "metadata": {
    "collapsed": true
   },
   "outputs": [],
   "source": [
    "document = ET.parse( './data/mondial_database.xml' )"
   ]
  },
  {
   "cell_type": "markdown",
   "metadata": {},
   "source": [
    "# 1. 10 countries with the lowest infant mortality rates"
   ]
  },
  {
   "cell_type": "code",
   "execution_count": 216,
   "metadata": {
    "collapsed": false
   },
   "outputs": [],
   "source": [
    "import pandas as pd\n",
    "import numpy as np\n",
    "\n",
    "# Extract countries, population, and infant_mortality\n",
    "country_dict = {}\n",
    "for element in document.iterfind('country'): #find all countries\n",
    "    for population in element.iterfind('population'): #find all population\n",
    "        try:\n",
    "             country_dict[element.find('name').text] = [int(population.text), float(element.find('infant_mortality').text)] #find infant_mortality stats\n",
    "        except: \n",
    "            pass\n",
    "        \n",
    "#print(country_dict)"
   ]
  },
  {
   "cell_type": "code",
   "execution_count": 217,
   "metadata": {
    "collapsed": false
   },
   "outputs": [
    {
     "name": "stdout",
     "output_type": "stream",
     "text": [
      "          Country  Infant_Mortality\n",
      "0         Albania             13.19\n",
      "1          Greece              4.78\n",
      "2       Macedonia              7.90\n",
      "3          Serbia              6.16\n",
      "4         Andorra              3.69\n",
      "5          France              3.31\n",
      "6           Spain              3.33\n",
      "7         Austria              4.16\n",
      "8  Czech Republic              2.63\n",
      "9         Germany              3.46\n"
     ]
    }
   ],
   "source": [
    "# Convert dictionary into a dataframe\n",
    "country = pd.DataFrame.from_dict(country_dict, orient='index') \n",
    "\n",
    "# Reset index\n",
    "country.reset_index(drop=False, inplace=True)\n",
    "\n",
    "# Update column names\n",
    "country.columns = ['Country','Population', 'Infant_Mortality']\n",
    "\n",
    "# Subset data\n",
    "country = country[['Country','Infant_Mortality']]\n",
    "print(country.head(10))"
   ]
  },
  {
   "cell_type": "code",
   "execution_count": 94,
   "metadata": {
    "collapsed": false
   },
   "outputs": [
    {
     "data": {
      "text/html": [
       "<div>\n",
       "<table border=\"1\" class=\"dataframe\">\n",
       "  <thead>\n",
       "    <tr style=\"text-align: right;\">\n",
       "      <th></th>\n",
       "      <th>Country</th>\n",
       "      <th>Infant_Mortality</th>\n",
       "    </tr>\n",
       "  </thead>\n",
       "  <tbody>\n",
       "    <tr>\n",
       "      <th>36</th>\n",
       "      <td>Monaco</td>\n",
       "      <td>1.81</td>\n",
       "    </tr>\n",
       "    <tr>\n",
       "      <th>90</th>\n",
       "      <td>Japan</td>\n",
       "      <td>2.13</td>\n",
       "    </tr>\n",
       "    <tr>\n",
       "      <th>109</th>\n",
       "      <td>Bermuda</td>\n",
       "      <td>2.48</td>\n",
       "    </tr>\n",
       "    <tr>\n",
       "      <th>34</th>\n",
       "      <td>Norway</td>\n",
       "      <td>2.48</td>\n",
       "    </tr>\n",
       "    <tr>\n",
       "      <th>98</th>\n",
       "      <td>Singapore</td>\n",
       "      <td>2.53</td>\n",
       "    </tr>\n",
       "    <tr>\n",
       "      <th>35</th>\n",
       "      <td>Sweden</td>\n",
       "      <td>2.60</td>\n",
       "    </tr>\n",
       "    <tr>\n",
       "      <th>8</th>\n",
       "      <td>Czech Republic</td>\n",
       "      <td>2.63</td>\n",
       "    </tr>\n",
       "    <tr>\n",
       "      <th>72</th>\n",
       "      <td>Hong Kong</td>\n",
       "      <td>2.73</td>\n",
       "    </tr>\n",
       "    <tr>\n",
       "      <th>73</th>\n",
       "      <td>Macao</td>\n",
       "      <td>3.13</td>\n",
       "    </tr>\n",
       "    <tr>\n",
       "      <th>39</th>\n",
       "      <td>Iceland</td>\n",
       "      <td>3.15</td>\n",
       "    </tr>\n",
       "  </tbody>\n",
       "</table>\n",
       "</div>"
      ],
      "text/plain": [
       "            Country  Infant_Mortality\n",
       "36           Monaco              1.81\n",
       "90            Japan              2.13\n",
       "109         Bermuda              2.48\n",
       "34           Norway              2.48\n",
       "98        Singapore              2.53\n",
       "35           Sweden              2.60\n",
       "8    Czech Republic              2.63\n",
       "72        Hong Kong              2.73\n",
       "73            Macao              3.13\n",
       "39          Iceland              3.15"
      ]
     },
     "execution_count": 94,
     "metadata": {},
     "output_type": "execute_result"
    }
   ],
   "source": [
    "# Sort 10 countries with the lowest Infant_Mortality rate\n",
    "country.sort_values(by='Infant_Mortality', ascending=True).head(10)"
   ]
  },
  {
   "cell_type": "markdown",
   "metadata": {},
   "source": [
    "# 2. 10 cities with the largest population"
   ]
  },
  {
   "cell_type": "code",
   "execution_count": 212,
   "metadata": {
    "collapsed": false
   },
   "outputs": [
    {
     "data": {
      "text/html": [
       "<div>\n",
       "<table border=\"1\" class=\"dataframe\">\n",
       "  <thead>\n",
       "    <tr style=\"text-align: right;\">\n",
       "      <th></th>\n",
       "      <th>City</th>\n",
       "      <th>Population</th>\n",
       "    </tr>\n",
       "  </thead>\n",
       "  <tbody>\n",
       "    <tr>\n",
       "      <th>165</th>\n",
       "      <td>Seoul</td>\n",
       "      <td>10229262</td>\n",
       "    </tr>\n",
       "    <tr>\n",
       "      <th>123</th>\n",
       "      <td>Hong Kong</td>\n",
       "      <td>7055071</td>\n",
       "    </tr>\n",
       "    <tr>\n",
       "      <th>154</th>\n",
       "      <td>Al Qahirah</td>\n",
       "      <td>6053000</td>\n",
       "    </tr>\n",
       "    <tr>\n",
       "      <th>75</th>\n",
       "      <td>Bangkok</td>\n",
       "      <td>5876000</td>\n",
       "    </tr>\n",
       "    <tr>\n",
       "      <th>87</th>\n",
       "      <td>Ho Chi Minh</td>\n",
       "      <td>3924435</td>\n",
       "    </tr>\n",
       "    <tr>\n",
       "      <th>166</th>\n",
       "      <td>Busan</td>\n",
       "      <td>3813814</td>\n",
       "    </tr>\n",
       "    <tr>\n",
       "      <th>205</th>\n",
       "      <td>New Taipei</td>\n",
       "      <td>3722082</td>\n",
       "    </tr>\n",
       "    <tr>\n",
       "      <th>84</th>\n",
       "      <td>Hanoi</td>\n",
       "      <td>3056146</td>\n",
       "    </tr>\n",
       "    <tr>\n",
       "      <th>153</th>\n",
       "      <td>Al Iskandariyah</td>\n",
       "      <td>2917000</td>\n",
       "    </tr>\n",
       "    <tr>\n",
       "      <th>204</th>\n",
       "      <td>Taipei</td>\n",
       "      <td>2626138</td>\n",
       "    </tr>\n",
       "  </tbody>\n",
       "</table>\n",
       "</div>"
      ],
      "text/plain": [
       "                City  Population\n",
       "165            Seoul    10229262\n",
       "123        Hong Kong     7055071\n",
       "154       Al Qahirah     6053000\n",
       "75           Bangkok     5876000\n",
       "87       Ho Chi Minh     3924435\n",
       "166            Busan     3813814\n",
       "205       New Taipei     3722082\n",
       "84             Hanoi     3056146\n",
       "153  Al Iskandariyah     2917000\n",
       "204           Taipei     2626138"
      ]
     },
     "execution_count": 212,
     "metadata": {},
     "output_type": "execute_result"
    }
   ],
   "source": [
    "# Extract cities and populations\n",
    "city_dict = {}\n",
    "for element in document.iterfind('country'):\n",
    "    for city in element.iterfind('city'):\n",
    "        try:\n",
    "             city_dict[city.find('name').text] = int(city.find('population').text)\n",
    "        except: \n",
    "            pass\n",
    "\n",
    "# Convert dictionary into a dataframe\n",
    "cities_LgPop = pd.DataFrame.from_dict(city_dict, orient='index') \n",
    "\n",
    "# Reset index\n",
    "cities_LgPop.reset_index(drop=False, inplace=True)\n",
    "\n",
    "# Update column names\n",
    "cities_LgPop.columns = ['City','Population']\n",
    "\n",
    "# Sort 10 cities with the largest population\n",
    "cities_LgPop.sort_values(by='Population', ascending=False).head(10)"
   ]
  },
  {
   "cell_type": "markdown",
   "metadata": {},
   "source": [
    "# 3. 10 ethnic groups with the largest overall populations (sum of best/latest estimates over all countries)"
   ]
  },
  {
   "cell_type": "code",
   "execution_count": 633,
   "metadata": {
    "collapsed": false
   },
   "outputs": [],
   "source": [
    "# Create country, ethnic group, and percentage dataframe\n",
    "ethnic_groups = [] #create a list called ethnicgroups\n",
    "for element in document.iterfind('country'): #find all countries\n",
    "    country = element.find('name').text #find the name\n",
    "    for subelement in element.iterfind('ethnicgroup'): #find all ethinicgroup\n",
    "        group = []  #create a list called group\n",
    "        group.append(country) #add country to the group list\n",
    "        \n",
    "        if  pd.isnull(subelement):    #if subelement ('ethnicgroup') is null, move to next record\n",
    "            continue\n",
    "        else:\n",
    "            group.append(subelement.text) #add subelement ('ethnicgroup') to group list\n",
    "            if pd.isnull(subelement.attrib['percentage']):  #if subelement attrib['percentage'] is null, move to next record\n",
    "                group.append(replace)\n",
    "            else:\n",
    "                group.append(subelement.attrib['percentage']) #else add the subelement attrib['percentage'] to the list\n",
    "\n",
    "        ethnic_groups.append(group) #add the group list to the enthinicgroups list\n",
    "\n",
    "# Convert list into a dataframe\n",
    "ethnicgroups = pd.DataFrame(ethnic_groups) \n",
    "\n",
    "# Update column names\n",
    "ethnicgroups.columns =['Country','EthnicGroup','Pop_Pct'] "
   ]
  },
  {
   "cell_type": "code",
   "execution_count": 634,
   "metadata": {
    "collapsed": false
   },
   "outputs": [],
   "source": [
    "# Create population dataframe\n",
    "import pandas as pd\n",
    "import numpy as np\n",
    "\n",
    "# Extract country and population into a dictionary\n",
    "pop_dict = {}\n",
    "for element in document.iterfind('country'): #find all countries\n",
    "    for population in element.iterfind('population'): #find all population\n",
    "        try:\n",
    "             pop_dict[element.find('name').text] = [int(population.text)]\n",
    "        except: \n",
    "            pass\n",
    "        \n",
    "# Convert dictionary into a dataframe\n",
    "population = pd.DataFrame.from_dict(pop_dict, orient='index') \n",
    "\n",
    "# Reset index\n",
    "population.reset_index(drop=False, inplace=True)\n",
    "\n",
    "# Update column names\n",
    "population.columns = ['Country','Population']\n",
    "\n",
    "#print(population.head(10))"
   ]
  },
  {
   "cell_type": "code",
   "execution_count": 715,
   "metadata": {
    "collapsed": false
   },
   "outputs": [
    {
     "data": {
      "text/html": [
       "<div>\n",
       "<table border=\"1\" class=\"dataframe\">\n",
       "  <thead>\n",
       "    <tr style=\"text-align: right;\">\n",
       "      <th></th>\n",
       "      <th>EthnicGroup</th>\n",
       "      <th>Population</th>\n",
       "      <th>EthnicGroup_Pct</th>\n",
       "    </tr>\n",
       "  </thead>\n",
       "  <tbody>\n",
       "    <tr>\n",
       "      <th>113</th>\n",
       "      <td>Han Chinese</td>\n",
       "      <td>1360720000</td>\n",
       "      <td>1.245059e+09</td>\n",
       "    </tr>\n",
       "    <tr>\n",
       "      <th>120</th>\n",
       "      <td>Indo-Aryan</td>\n",
       "      <td>1210854977</td>\n",
       "      <td>8.718156e+08</td>\n",
       "    </tr>\n",
       "    <tr>\n",
       "      <th>89</th>\n",
       "      <td>European</td>\n",
       "      <td>1157295639</td>\n",
       "      <td>4.948722e+08</td>\n",
       "    </tr>\n",
       "    <tr>\n",
       "      <th>2</th>\n",
       "      <td>African</td>\n",
       "      <td>975352746</td>\n",
       "      <td>3.183251e+08</td>\n",
       "    </tr>\n",
       "    <tr>\n",
       "      <th>77</th>\n",
       "      <td>Dravidian</td>\n",
       "      <td>1210854977</td>\n",
       "      <td>3.027137e+08</td>\n",
       "    </tr>\n",
       "    <tr>\n",
       "      <th>176</th>\n",
       "      <td>Mestizo</td>\n",
       "      <td>279743964</td>\n",
       "      <td>1.577344e+08</td>\n",
       "    </tr>\n",
       "    <tr>\n",
       "      <th>42</th>\n",
       "      <td>Bengali</td>\n",
       "      <td>149772364</td>\n",
       "      <td>1.467769e+08</td>\n",
       "    </tr>\n",
       "    <tr>\n",
       "      <th>217</th>\n",
       "      <td>Russian</td>\n",
       "      <td>322438406</td>\n",
       "      <td>1.318570e+08</td>\n",
       "    </tr>\n",
       "    <tr>\n",
       "      <th>128</th>\n",
       "      <td>Japanese</td>\n",
       "      <td>127298000</td>\n",
       "      <td>1.265342e+08</td>\n",
       "    </tr>\n",
       "    <tr>\n",
       "      <th>163</th>\n",
       "      <td>Malay</td>\n",
       "      <td>377500275</td>\n",
       "      <td>1.219936e+08</td>\n",
       "    </tr>\n",
       "  </tbody>\n",
       "</table>\n",
       "</div>"
      ],
      "text/plain": [
       "     EthnicGroup  Population  EthnicGroup_Pct\n",
       "113  Han Chinese  1360720000     1.245059e+09\n",
       "120   Indo-Aryan  1210854977     8.718156e+08\n",
       "89      European  1157295639     4.948722e+08\n",
       "2        African   975352746     3.183251e+08\n",
       "77     Dravidian  1210854977     3.027137e+08\n",
       "176      Mestizo   279743964     1.577344e+08\n",
       "42       Bengali   149772364     1.467769e+08\n",
       "217      Russian   322438406     1.318570e+08\n",
       "128     Japanese   127298000     1.265342e+08\n",
       "163        Malay   377500275     1.219936e+08"
      ]
     },
     "execution_count": 715,
     "metadata": {},
     "output_type": "execute_result"
    }
   ],
   "source": [
    "# Merge ethnic_groups & Population dataframes       \n",
    "final_ethnicgroups = ethnicgroups.merge(population, how='left', on='Country')\n",
    "\n",
    "# Create a new field 'EthnicGroup_Pct' and calculate percentage of Ethinic Groups\n",
    "final_ethnicgroups['EthnicGroup_Pct'] = (final_ethnicgroups['Pop_Pct'].astype(float)/100) * final_ethnicgroups['Population']\n",
    "\n",
    "#final_ethnicgroups.head(10)\n",
    "\n",
    "# Group ethnic_group\n",
    "final_ethnicgroups = final_ethnicgroups.groupby('EthnicGroup').sum()\n",
    "\n",
    "# Reset index\n",
    "final_ethnicgroups.reset_index(drop=False, inplace=True)\n",
    "\n",
    "# Sort by descending EthnicGroup_Pct\n",
    "final_ethnicgroups.sort_values(by='EthnicGroup_Pct', ascending=False, inplace=True)\n",
    "\n",
    "# Top 10 ethnic groups with largest percentage of overall populations\n",
    "final_ethnicgroups.head(10)"
   ]
  },
  {
   "cell_type": "markdown",
   "metadata": {},
   "source": [
    "# 4a. name and country of longest river  "
   ]
  },
  {
   "cell_type": "code",
   "execution_count": 732,
   "metadata": {
    "collapsed": false
   },
   "outputs": [
    {
     "data": {
      "text/html": [
       "<div>\n",
       "<table border=\"1\" class=\"dataframe\">\n",
       "  <thead>\n",
       "    <tr style=\"text-align: right;\">\n",
       "      <th></th>\n",
       "      <th>Country_Cd</th>\n",
       "      <th>River</th>\n",
       "      <th>River_Length</th>\n",
       "    </tr>\n",
       "  </thead>\n",
       "  <tbody>\n",
       "    <tr>\n",
       "      <th>243</th>\n",
       "      <td>CO</td>\n",
       "      <td>Amazonas</td>\n",
       "      <td>6448.0</td>\n",
       "    </tr>\n",
       "    <tr>\n",
       "      <th>244</th>\n",
       "      <td>BR</td>\n",
       "      <td>Amazonas</td>\n",
       "      <td>6448.0</td>\n",
       "    </tr>\n",
       "    <tr>\n",
       "      <th>245</th>\n",
       "      <td>PE</td>\n",
       "      <td>Amazonas</td>\n",
       "      <td>6448.0</td>\n",
       "    </tr>\n",
       "    <tr>\n",
       "      <th>191</th>\n",
       "      <td>CN</td>\n",
       "      <td>Jangtse</td>\n",
       "      <td>6380.0</td>\n",
       "    </tr>\n",
       "    <tr>\n",
       "      <th>190</th>\n",
       "      <td>CN</td>\n",
       "      <td>Hwangho</td>\n",
       "      <td>4845.0</td>\n",
       "    </tr>\n",
       "    <tr>\n",
       "      <th>170</th>\n",
       "      <td>R</td>\n",
       "      <td>Lena</td>\n",
       "      <td>4400.0</td>\n",
       "    </tr>\n",
       "    <tr>\n",
       "      <th>282</th>\n",
       "      <td>RCB</td>\n",
       "      <td>Zaire</td>\n",
       "      <td>4374.0</td>\n",
       "    </tr>\n",
       "    <tr>\n",
       "      <th>281</th>\n",
       "      <td>ZRE</td>\n",
       "      <td>Zaire</td>\n",
       "      <td>4374.0</td>\n",
       "    </tr>\n",
       "    <tr>\n",
       "      <th>192</th>\n",
       "      <td>CN</td>\n",
       "      <td>Mekong</td>\n",
       "      <td>4350.0</td>\n",
       "    </tr>\n",
       "    <tr>\n",
       "      <th>160</th>\n",
       "      <td>CN</td>\n",
       "      <td>Irtysch</td>\n",
       "      <td>4248.0</td>\n",
       "    </tr>\n",
       "  </tbody>\n",
       "</table>\n",
       "</div>"
      ],
      "text/plain": [
       "    Country_Cd     River  River_Length\n",
       "243         CO  Amazonas        6448.0\n",
       "244         BR  Amazonas        6448.0\n",
       "245         PE  Amazonas        6448.0\n",
       "191         CN   Jangtse        6380.0\n",
       "190         CN   Hwangho        4845.0\n",
       "170          R      Lena        4400.0\n",
       "282        RCB     Zaire        4374.0\n",
       "281        ZRE     Zaire        4374.0\n",
       "192         CN    Mekong        4350.0\n",
       "160         CN   Irtysch        4248.0"
      ]
     },
     "execution_count": 732,
     "metadata": {},
     "output_type": "execute_result"
    }
   ],
   "source": [
    "river_list = []\n",
    "for element in document.iterfind('river'): # find all river\n",
    "    rivername = element.find('name').text #find the name\n",
    "    for subelement in element.iterfind('located'): #find located country\n",
    "        try:\n",
    "            group = [subelement.attrib['country'], element.find('name').text, int(element.find('length').text)] # extract country, river, and river length\n",
    "            river_list.append(group) #add to river list\n",
    "        except:\n",
    "            pass\n",
    "\n",
    "# Create a dataframe containing country code, river, and river length    \n",
    "columns = ['Country_Cd', 'River', 'River_Length']\n",
    "rivers = pd.DataFrame(columns=columns)\n",
    "rivers = rivers.append(pd.DataFrame(river_list, columns=columns), ignore_index=True)\n",
    "\n",
    "# Sort by descending River_Length\n",
    "rivers.sort_values(by='River_Length', ascending=False, inplace=True)\n",
    "\n",
    "# Review top 10 records\n",
    "rivers.head(10)"
   ]
  },
  {
   "cell_type": "code",
   "execution_count": 733,
   "metadata": {
    "collapsed": false
   },
   "outputs": [],
   "source": [
    "# Create country code & country dictionary\n",
    "country_dict = {}\n",
    "for element in document.iterfind('country'):\n",
    "    country_dict[element.attrib['car_code']] = element.find('name').text\n",
    "\n",
    "# Convert dictionary into a dataframe\n",
    "country_cd = pd.DataFrame.from_dict(country_dict, orient='index') \n",
    "\n",
    "# Reset index\n",
    "country_cd.reset_index(drop=False, inplace=True)\n",
    "\n",
    "# Update column names\n",
    "country_cd.columns = ['Country_Cd','Country']"
   ]
  },
  {
   "cell_type": "code",
   "execution_count": 734,
   "metadata": {
    "collapsed": false
   },
   "outputs": [
    {
     "data": {
      "text/html": [
       "<div>\n",
       "<table border=\"1\" class=\"dataframe\">\n",
       "  <thead>\n",
       "    <tr style=\"text-align: right;\">\n",
       "      <th></th>\n",
       "      <th>Country_Cd</th>\n",
       "      <th>River</th>\n",
       "      <th>River_Length</th>\n",
       "      <th>Country</th>\n",
       "    </tr>\n",
       "  </thead>\n",
       "  <tbody>\n",
       "    <tr>\n",
       "      <th>0</th>\n",
       "      <td>CO</td>\n",
       "      <td>Amazonas</td>\n",
       "      <td>6448.0</td>\n",
       "      <td>Colombia</td>\n",
       "    </tr>\n",
       "    <tr>\n",
       "      <th>1</th>\n",
       "      <td>BR</td>\n",
       "      <td>Amazonas</td>\n",
       "      <td>6448.0</td>\n",
       "      <td>Brazil</td>\n",
       "    </tr>\n",
       "    <tr>\n",
       "      <th>2</th>\n",
       "      <td>PE</td>\n",
       "      <td>Amazonas</td>\n",
       "      <td>6448.0</td>\n",
       "      <td>Peru</td>\n",
       "    </tr>\n",
       "    <tr>\n",
       "      <th>3</th>\n",
       "      <td>CN</td>\n",
       "      <td>Jangtse</td>\n",
       "      <td>6380.0</td>\n",
       "      <td>China</td>\n",
       "    </tr>\n",
       "    <tr>\n",
       "      <th>4</th>\n",
       "      <td>CN</td>\n",
       "      <td>Hwangho</td>\n",
       "      <td>4845.0</td>\n",
       "      <td>China</td>\n",
       "    </tr>\n",
       "  </tbody>\n",
       "</table>\n",
       "</div>"
      ],
      "text/plain": [
       "  Country_Cd     River  River_Length   Country\n",
       "0         CO  Amazonas        6448.0  Colombia\n",
       "1         BR  Amazonas        6448.0    Brazil\n",
       "2         PE  Amazonas        6448.0      Peru\n",
       "3         CN   Jangtse        6380.0     China\n",
       "4         CN   Hwangho        4845.0     China"
      ]
     },
     "execution_count": 734,
     "metadata": {},
     "output_type": "execute_result"
    }
   ],
   "source": [
    "# Merge rivers & country dataframes       \n",
    "finalrivers = rivers.merge(country_cd, how='left', on='Country_Cd')\n",
    "\n",
    "# Review top 5 records\n",
    "finalrivers.head()"
   ]
  },
  {
   "cell_type": "code",
   "execution_count": 735,
   "metadata": {
    "collapsed": false
   },
   "outputs": [
    {
     "data": {
      "text/html": [
       "<div>\n",
       "<table border=\"1\" class=\"dataframe\">\n",
       "  <thead>\n",
       "    <tr style=\"text-align: right;\">\n",
       "      <th></th>\n",
       "      <th>Country_Cd</th>\n",
       "      <th>Country</th>\n",
       "      <th>River</th>\n",
       "      <th>River_Length</th>\n",
       "    </tr>\n",
       "  </thead>\n",
       "  <tbody>\n",
       "    <tr>\n",
       "      <th>0</th>\n",
       "      <td>CO</td>\n",
       "      <td>Colombia</td>\n",
       "      <td>Amazonas</td>\n",
       "      <td>6448.0</td>\n",
       "    </tr>\n",
       "    <tr>\n",
       "      <th>1</th>\n",
       "      <td>BR</td>\n",
       "      <td>Brazil</td>\n",
       "      <td>Amazonas</td>\n",
       "      <td>6448.0</td>\n",
       "    </tr>\n",
       "    <tr>\n",
       "      <th>2</th>\n",
       "      <td>PE</td>\n",
       "      <td>Peru</td>\n",
       "      <td>Amazonas</td>\n",
       "      <td>6448.0</td>\n",
       "    </tr>\n",
       "  </tbody>\n",
       "</table>\n",
       "</div>"
      ],
      "text/plain": [
       "  Country_Cd   Country     River  River_Length\n",
       "0         CO  Colombia  Amazonas        6448.0\n",
       "1         BR    Brazil  Amazonas        6448.0\n",
       "2         PE      Peru  Amazonas        6448.0"
      ]
     },
     "execution_count": 735,
     "metadata": {},
     "output_type": "execute_result"
    }
   ],
   "source": [
    "# Re-arrange columns\n",
    "longest_rivers = finalrivers[['Country_Cd','Country','River','River_Length']]\n",
    "\n",
    "# Select longest river\n",
    "longest_rivers = longest_rivers[0:3]\n",
    "\n",
    "# Display results\n",
    "longest_rivers"
   ]
  },
  {
   "cell_type": "markdown",
   "metadata": {},
   "source": [
    "# 4b. name and country of largest lake   "
   ]
  },
  {
   "cell_type": "code",
   "execution_count": 745,
   "metadata": {
    "collapsed": false
   },
   "outputs": [
    {
     "data": {
      "text/html": [
       "<div>\n",
       "<table border=\"1\" class=\"dataframe\">\n",
       "  <thead>\n",
       "    <tr style=\"text-align: right;\">\n",
       "      <th></th>\n",
       "      <th>Country_Cd</th>\n",
       "      <th>Lake</th>\n",
       "      <th>Lake_Size</th>\n",
       "    </tr>\n",
       "  </thead>\n",
       "  <tbody>\n",
       "    <tr>\n",
       "      <th>47</th>\n",
       "      <td>R</td>\n",
       "      <td>Caspian Sea</td>\n",
       "      <td>386400.0</td>\n",
       "    </tr>\n",
       "    <tr>\n",
       "      <th>48</th>\n",
       "      <td>KAZ</td>\n",
       "      <td>Caspian Sea</td>\n",
       "      <td>386400.0</td>\n",
       "    </tr>\n",
       "    <tr>\n",
       "      <th>49</th>\n",
       "      <td>IR</td>\n",
       "      <td>Caspian Sea</td>\n",
       "      <td>386400.0</td>\n",
       "    </tr>\n",
       "    <tr>\n",
       "      <th>50</th>\n",
       "      <td>TM</td>\n",
       "      <td>Caspian Sea</td>\n",
       "      <td>386400.0</td>\n",
       "    </tr>\n",
       "    <tr>\n",
       "      <th>107</th>\n",
       "      <td>USA</td>\n",
       "      <td>Lake Superior</td>\n",
       "      <td>82103.0</td>\n",
       "    </tr>\n",
       "    <tr>\n",
       "      <th>106</th>\n",
       "      <td>CDN</td>\n",
       "      <td>Lake Superior</td>\n",
       "      <td>82103.0</td>\n",
       "    </tr>\n",
       "    <tr>\n",
       "      <th>73</th>\n",
       "      <td>EAT</td>\n",
       "      <td>Lake Victoria</td>\n",
       "      <td>68870.0</td>\n",
       "    </tr>\n",
       "    <tr>\n",
       "      <th>102</th>\n",
       "      <td>CDN</td>\n",
       "      <td>Lake Huron</td>\n",
       "      <td>59600.0</td>\n",
       "    </tr>\n",
       "    <tr>\n",
       "      <th>103</th>\n",
       "      <td>USA</td>\n",
       "      <td>Lake Huron</td>\n",
       "      <td>59600.0</td>\n",
       "    </tr>\n",
       "    <tr>\n",
       "      <th>105</th>\n",
       "      <td>USA</td>\n",
       "      <td>Lake Michigan</td>\n",
       "      <td>57800.0</td>\n",
       "    </tr>\n",
       "  </tbody>\n",
       "</table>\n",
       "</div>"
      ],
      "text/plain": [
       "    Country_Cd           Lake  Lake_Size\n",
       "47           R    Caspian Sea   386400.0\n",
       "48         KAZ    Caspian Sea   386400.0\n",
       "49          IR    Caspian Sea   386400.0\n",
       "50          TM    Caspian Sea   386400.0\n",
       "107        USA  Lake Superior    82103.0\n",
       "106        CDN  Lake Superior    82103.0\n",
       "73         EAT  Lake Victoria    68870.0\n",
       "102        CDN     Lake Huron    59600.0\n",
       "103        USA     Lake Huron    59600.0\n",
       "105        USA  Lake Michigan    57800.0"
      ]
     },
     "execution_count": 745,
     "metadata": {},
     "output_type": "execute_result"
    }
   ],
   "source": [
    "lake_list = []\n",
    "for element in document.iterfind('lake'): # find all lakes\n",
    "    lakename = element.find('name').text #find the name\n",
    "    for subelement in element.iterfind('located'): #find located country\n",
    "        try:\n",
    "            group = [subelement.attrib['country'], element.find('name').text, int(element.find('area').text)] # extract country, lakes, and lakes area\n",
    "            lake_list.append(group) #add to lakes list\n",
    "        except:\n",
    "            pass\n",
    "\n",
    "# Create a dataframe containing country code, lake, and lake area    \n",
    "columns = ['Country_Cd', 'Lake', 'Lake_Size']\n",
    "lakes = pd.DataFrame(columns=columns)\n",
    "lakes = lakes.append(pd.DataFrame(lake_list, columns=columns), ignore_index=True)\n",
    "\n",
    "# Sort by descending River_Length\n",
    "lakes.sort_values(by='Lake_Size', ascending=False, inplace=True)\n",
    "\n",
    "# Review top 10 records\n",
    "lakes.head(10)"
   ]
  },
  {
   "cell_type": "code",
   "execution_count": 746,
   "metadata": {
    "collapsed": true
   },
   "outputs": [],
   "source": [
    "# Create country code & country dictionary\n",
    "country_dict = {}\n",
    "for element in document.iterfind('country'):\n",
    "    country_dict[element.attrib['car_code']] = element.find('name').text\n",
    "\n",
    "# Convert dictionary into a dataframe\n",
    "country_cd = pd.DataFrame.from_dict(country_dict, orient='index') \n",
    "\n",
    "# Reset index\n",
    "country_cd.reset_index(drop=False, inplace=True)\n",
    "\n",
    "# Update column names\n",
    "country_cd.columns = ['Country_Cd','Country']"
   ]
  },
  {
   "cell_type": "code",
   "execution_count": 747,
   "metadata": {
    "collapsed": false
   },
   "outputs": [
    {
     "data": {
      "text/html": [
       "<div>\n",
       "<table border=\"1\" class=\"dataframe\">\n",
       "  <thead>\n",
       "    <tr style=\"text-align: right;\">\n",
       "      <th></th>\n",
       "      <th>Country_Cd</th>\n",
       "      <th>Lake</th>\n",
       "      <th>Lake_Size</th>\n",
       "      <th>Country</th>\n",
       "    </tr>\n",
       "  </thead>\n",
       "  <tbody>\n",
       "    <tr>\n",
       "      <th>0</th>\n",
       "      <td>R</td>\n",
       "      <td>Caspian Sea</td>\n",
       "      <td>386400.0</td>\n",
       "      <td>Russia</td>\n",
       "    </tr>\n",
       "    <tr>\n",
       "      <th>1</th>\n",
       "      <td>KAZ</td>\n",
       "      <td>Caspian Sea</td>\n",
       "      <td>386400.0</td>\n",
       "      <td>Kazakhstan</td>\n",
       "    </tr>\n",
       "    <tr>\n",
       "      <th>2</th>\n",
       "      <td>IR</td>\n",
       "      <td>Caspian Sea</td>\n",
       "      <td>386400.0</td>\n",
       "      <td>Iran</td>\n",
       "    </tr>\n",
       "    <tr>\n",
       "      <th>3</th>\n",
       "      <td>TM</td>\n",
       "      <td>Caspian Sea</td>\n",
       "      <td>386400.0</td>\n",
       "      <td>Turkmenistan</td>\n",
       "    </tr>\n",
       "    <tr>\n",
       "      <th>4</th>\n",
       "      <td>USA</td>\n",
       "      <td>Lake Superior</td>\n",
       "      <td>82103.0</td>\n",
       "      <td>United States</td>\n",
       "    </tr>\n",
       "  </tbody>\n",
       "</table>\n",
       "</div>"
      ],
      "text/plain": [
       "  Country_Cd           Lake  Lake_Size        Country\n",
       "0          R    Caspian Sea   386400.0         Russia\n",
       "1        KAZ    Caspian Sea   386400.0     Kazakhstan\n",
       "2         IR    Caspian Sea   386400.0           Iran\n",
       "3         TM    Caspian Sea   386400.0   Turkmenistan\n",
       "4        USA  Lake Superior    82103.0  United States"
      ]
     },
     "execution_count": 747,
     "metadata": {},
     "output_type": "execute_result"
    }
   ],
   "source": [
    "# Merge lake & country dataframes       \n",
    "finallakes = lakes.merge(country_cd, how='left', on='Country_Cd')\n",
    "\n",
    "# Review top 5 records\n",
    "finallakes.head()"
   ]
  },
  {
   "cell_type": "code",
   "execution_count": 748,
   "metadata": {
    "collapsed": false
   },
   "outputs": [
    {
     "data": {
      "text/html": [
       "<div>\n",
       "<table border=\"1\" class=\"dataframe\">\n",
       "  <thead>\n",
       "    <tr style=\"text-align: right;\">\n",
       "      <th></th>\n",
       "      <th>Country_Cd</th>\n",
       "      <th>Country</th>\n",
       "      <th>Lake</th>\n",
       "      <th>Lake_Size</th>\n",
       "    </tr>\n",
       "  </thead>\n",
       "  <tbody>\n",
       "    <tr>\n",
       "      <th>0</th>\n",
       "      <td>R</td>\n",
       "      <td>Russia</td>\n",
       "      <td>Caspian Sea</td>\n",
       "      <td>386400.0</td>\n",
       "    </tr>\n",
       "    <tr>\n",
       "      <th>1</th>\n",
       "      <td>KAZ</td>\n",
       "      <td>Kazakhstan</td>\n",
       "      <td>Caspian Sea</td>\n",
       "      <td>386400.0</td>\n",
       "    </tr>\n",
       "    <tr>\n",
       "      <th>2</th>\n",
       "      <td>IR</td>\n",
       "      <td>Iran</td>\n",
       "      <td>Caspian Sea</td>\n",
       "      <td>386400.0</td>\n",
       "    </tr>\n",
       "    <tr>\n",
       "      <th>3</th>\n",
       "      <td>TM</td>\n",
       "      <td>Turkmenistan</td>\n",
       "      <td>Caspian Sea</td>\n",
       "      <td>386400.0</td>\n",
       "    </tr>\n",
       "  </tbody>\n",
       "</table>\n",
       "</div>"
      ],
      "text/plain": [
       "  Country_Cd       Country         Lake  Lake_Size\n",
       "0          R        Russia  Caspian Sea   386400.0\n",
       "1        KAZ    Kazakhstan  Caspian Sea   386400.0\n",
       "2         IR          Iran  Caspian Sea   386400.0\n",
       "3         TM  Turkmenistan  Caspian Sea   386400.0"
      ]
     },
     "execution_count": 748,
     "metadata": {},
     "output_type": "execute_result"
    }
   ],
   "source": [
    "# Re-arrange columns\n",
    "largest_lakes = finallakes[['Country_Cd','Country','Lake','Lake_Size']]\n",
    "\n",
    "# Select largest lake\n",
    "largest_lakes = largest_lakes[0:4]\n",
    "\n",
    "# Display results\n",
    "largest_lakes"
   ]
  },
  {
   "cell_type": "markdown",
   "metadata": {},
   "source": [
    "# 4c. name and country of airport at highest elevation"
   ]
  },
  {
   "cell_type": "code",
   "execution_count": 762,
   "metadata": {
    "collapsed": false
   },
   "outputs": [
    {
     "data": {
      "text/html": [
       "<div>\n",
       "<table border=\"1\" class=\"dataframe\">\n",
       "  <thead>\n",
       "    <tr style=\"text-align: right;\">\n",
       "      <th></th>\n",
       "      <th>Country_Cd</th>\n",
       "      <th>Airport</th>\n",
       "      <th>Elevation</th>\n",
       "    </tr>\n",
       "  </thead>\n",
       "  <tbody>\n",
       "    <tr>\n",
       "      <th>80</th>\n",
       "      <td>AUS</td>\n",
       "      <td>El Alto Intl</td>\n",
       "      <td>4063.0</td>\n",
       "    </tr>\n",
       "    <tr>\n",
       "      <th>212</th>\n",
       "      <td>AUS</td>\n",
       "      <td>Lhasa-Gonggar</td>\n",
       "      <td>4005.0</td>\n",
       "    </tr>\n",
       "    <tr>\n",
       "      <th>230</th>\n",
       "      <td>AUS</td>\n",
       "      <td>Yushu Batang</td>\n",
       "      <td>3963.0</td>\n",
       "    </tr>\n",
       "    <tr>\n",
       "      <th>787</th>\n",
       "      <td>AUS</td>\n",
       "      <td>Juliaca</td>\n",
       "      <td>3827.0</td>\n",
       "    </tr>\n",
       "    <tr>\n",
       "      <th>789</th>\n",
       "      <td>AUS</td>\n",
       "      <td>Teniente Alejandro Velasco Astete Intl</td>\n",
       "      <td>3311.0</td>\n",
       "    </tr>\n",
       "    <tr>\n",
       "      <th>82</th>\n",
       "      <td>AUS</td>\n",
       "      <td>Juana Azurduy De Padilla</td>\n",
       "      <td>2905.0</td>\n",
       "    </tr>\n",
       "    <tr>\n",
       "      <th>308</th>\n",
       "      <td>AUS</td>\n",
       "      <td>Mariscal Sucre Intl</td>\n",
       "      <td>2813.0</td>\n",
       "    </tr>\n",
       "    <tr>\n",
       "      <th>779</th>\n",
       "      <td>AUS</td>\n",
       "      <td>Coronel Fap Alfredo Mendivil Duarte</td>\n",
       "      <td>2719.0</td>\n",
       "    </tr>\n",
       "    <tr>\n",
       "      <th>781</th>\n",
       "      <td>AUS</td>\n",
       "      <td>Mayor General FAP Armando Revoredo Iglesias Ai...</td>\n",
       "      <td>2677.0</td>\n",
       "    </tr>\n",
       "    <tr>\n",
       "      <th>666</th>\n",
       "      <td>AUS</td>\n",
       "      <td>Licenciado Adolfo Lopez Mateos Intl</td>\n",
       "      <td>2581.0</td>\n",
       "    </tr>\n",
       "  </tbody>\n",
       "</table>\n",
       "</div>"
      ],
      "text/plain": [
       "    Country_Cd                                            Airport  Elevation\n",
       "80         AUS                                       El Alto Intl     4063.0\n",
       "212        AUS                                      Lhasa-Gonggar     4005.0\n",
       "230        AUS                                       Yushu Batang     3963.0\n",
       "787        AUS                                            Juliaca     3827.0\n",
       "789        AUS             Teniente Alejandro Velasco Astete Intl     3311.0\n",
       "82         AUS                           Juana Azurduy De Padilla     2905.0\n",
       "308        AUS                                Mariscal Sucre Intl     2813.0\n",
       "779        AUS                Coronel Fap Alfredo Mendivil Duarte     2719.0\n",
       "781        AUS  Mayor General FAP Armando Revoredo Iglesias Ai...     2677.0\n",
       "666        AUS                Licenciado Adolfo Lopez Mateos Intl     2581.0"
      ]
     },
     "execution_count": 762,
     "metadata": {},
     "output_type": "execute_result"
    }
   ],
   "source": [
    "airport_list = []\n",
    "for element in document.iterfind('airport'): # find all airport\n",
    "    airportname = element.find('name').text #find the name\n",
    "    try:\n",
    "        group = [subelement.attrib['country'], element.find('name').text, int(element.find('elevation').text)] # extract country & elevation\n",
    "        airport_list.append(group) #add to airport list\n",
    "    except:\n",
    "        pass\n",
    "\n",
    "# Create a dataframe containing country code, airport, and elevation    \n",
    "columns = ['Country_Cd', 'Airport', 'Elevation']\n",
    "airports = pd.DataFrame(columns=columns)\n",
    "airports = airports.append(pd.DataFrame(airport_list, columns=columns), ignore_index=True)\n",
    "\n",
    "# Sort by descending Elevation\n",
    "airports.sort_values(by='Elevation', ascending=False, inplace=True)\n",
    "\n",
    "# Review top 10 records\n",
    "airports.head(10)"
   ]
  },
  {
   "cell_type": "code",
   "execution_count": 763,
   "metadata": {
    "collapsed": true
   },
   "outputs": [],
   "source": [
    "# Create country code & country dictionary\n",
    "country_dict = {}\n",
    "for element in document.iterfind('country'):\n",
    "    country_dict[element.attrib['car_code']] = element.find('name').text\n",
    "\n",
    "# Convert dictionary into a dataframe\n",
    "country_cd = pd.DataFrame.from_dict(country_dict, orient='index') \n",
    "\n",
    "# Reset index\n",
    "country_cd.reset_index(drop=False, inplace=True)\n",
    "\n",
    "# Update column names\n",
    "country_cd.columns = ['Country_Cd','Country']"
   ]
  },
  {
   "cell_type": "code",
   "execution_count": 768,
   "metadata": {
    "collapsed": false
   },
   "outputs": [
    {
     "data": {
      "text/html": [
       "<div>\n",
       "<table border=\"1\" class=\"dataframe\">\n",
       "  <thead>\n",
       "    <tr style=\"text-align: right;\">\n",
       "      <th></th>\n",
       "      <th>Country_Cd</th>\n",
       "      <th>Airport</th>\n",
       "      <th>Elevation</th>\n",
       "      <th>Country</th>\n",
       "    </tr>\n",
       "  </thead>\n",
       "  <tbody>\n",
       "    <tr>\n",
       "      <th>0</th>\n",
       "      <td>AUS</td>\n",
       "      <td>El Alto Intl</td>\n",
       "      <td>4063.0</td>\n",
       "      <td>Australia</td>\n",
       "    </tr>\n",
       "    <tr>\n",
       "      <th>1</th>\n",
       "      <td>AUS</td>\n",
       "      <td>Lhasa-Gonggar</td>\n",
       "      <td>4005.0</td>\n",
       "      <td>Australia</td>\n",
       "    </tr>\n",
       "    <tr>\n",
       "      <th>2</th>\n",
       "      <td>AUS</td>\n",
       "      <td>Yushu Batang</td>\n",
       "      <td>3963.0</td>\n",
       "      <td>Australia</td>\n",
       "    </tr>\n",
       "    <tr>\n",
       "      <th>3</th>\n",
       "      <td>AUS</td>\n",
       "      <td>Juliaca</td>\n",
       "      <td>3827.0</td>\n",
       "      <td>Australia</td>\n",
       "    </tr>\n",
       "    <tr>\n",
       "      <th>4</th>\n",
       "      <td>AUS</td>\n",
       "      <td>Teniente Alejandro Velasco Astete Intl</td>\n",
       "      <td>3311.0</td>\n",
       "      <td>Australia</td>\n",
       "    </tr>\n",
       "  </tbody>\n",
       "</table>\n",
       "</div>"
      ],
      "text/plain": [
       "  Country_Cd                                 Airport  Elevation    Country\n",
       "0        AUS                            El Alto Intl     4063.0  Australia\n",
       "1        AUS                           Lhasa-Gonggar     4005.0  Australia\n",
       "2        AUS                            Yushu Batang     3963.0  Australia\n",
       "3        AUS                                 Juliaca     3827.0  Australia\n",
       "4        AUS  Teniente Alejandro Velasco Astete Intl     3311.0  Australia"
      ]
     },
     "execution_count": 768,
     "metadata": {},
     "output_type": "execute_result"
    }
   ],
   "source": [
    "# Merge airports & country dataframes       \n",
    "finalairports = airports.merge(country_cd, how='left', on='Country_Cd')\n",
    "\n",
    "# Review top 5 records\n",
    "finalairports.head()"
   ]
  },
  {
   "cell_type": "code",
   "execution_count": 770,
   "metadata": {
    "collapsed": false
   },
   "outputs": [
    {
     "data": {
      "text/html": [
       "<div>\n",
       "<table border=\"1\" class=\"dataframe\">\n",
       "  <thead>\n",
       "    <tr style=\"text-align: right;\">\n",
       "      <th></th>\n",
       "      <th>Country_Cd</th>\n",
       "      <th>Country</th>\n",
       "      <th>Airport</th>\n",
       "      <th>Elevation</th>\n",
       "    </tr>\n",
       "  </thead>\n",
       "  <tbody>\n",
       "    <tr>\n",
       "      <th>0</th>\n",
       "      <td>AUS</td>\n",
       "      <td>Australia</td>\n",
       "      <td>El Alto Intl</td>\n",
       "      <td>4063.0</td>\n",
       "    </tr>\n",
       "  </tbody>\n",
       "</table>\n",
       "</div>"
      ],
      "text/plain": [
       "  Country_Cd    Country       Airport  Elevation\n",
       "0        AUS  Australia  El Alto Intl     4063.0"
      ]
     },
     "execution_count": 770,
     "metadata": {},
     "output_type": "execute_result"
    }
   ],
   "source": [
    "# Re-arrange columns\n",
    "highestelevation = finalairports[['Country_Cd','Country','Airport','Elevation']]\n",
    "\n",
    "# Select airport with highest elevation\n",
    "highestelevation = highestelevation[0:1]\n",
    "\n",
    "# Display results\n",
    "highestelevation"
   ]
  }
 ],
 "metadata": {
  "kernelspec": {
   "display_name": "Python 3",
   "language": "python",
   "name": "python3"
  },
  "language_info": {
   "codemirror_mode": {
    "name": "ipython",
    "version": 3
   },
   "file_extension": ".py",
   "mimetype": "text/x-python",
   "name": "python",
   "nbconvert_exporter": "python",
   "pygments_lexer": "ipython3",
   "version": "3.6.0"
  }
 },
 "nbformat": 4,
 "nbformat_minor": 0
}
